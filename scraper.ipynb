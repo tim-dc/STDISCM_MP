{
 "cells": [
  {
   "cell_type": "code",
   "execution_count": 1,
   "metadata": {},
   "outputs": [],
   "source": [
    "import requests\n",
    "import pandas as pd\n",
    "import json"
   ]
  },
  {
   "cell_type": "code",
   "execution_count": 2,
   "metadata": {},
   "outputs": [],
   "source": [
    "URL=\"https://www.dlsu.edu.ph\""
   ]
  },
  {
   "cell_type": "code",
   "execution_count": 3,
   "metadata": {
    "scrolled": true
   },
   "outputs": [],
   "source": [
    "page = requests.get(URL)"
   ]
  },
  {
   "cell_type": "markdown",
   "metadata": {},
   "source": [
    "# Extract all sub-urls from dlsu.edu.ph"
   ]
  },
  {
   "cell_type": "code",
   "execution_count": 4,
   "metadata": {
    "scrolled": true
   },
   "outputs": [
    {
     "name": "stdout",
     "output_type": "stream",
     "text": [
      "https://www.dlsu.edu.ph/about-dlsu/\n",
      "https://www.dlsu.edu.ph/about-dlsu/ourcorevalues/\n",
      "https://www.dlsu.edu.ph/offices/qao/accreditation/\n",
      "https://www.dlsu.edu.ph/offices/office-of-the-chancellor/\n",
      "https://www.dlsu.edu.ph/university-fellows/\n",
      "https://www.dlsu.edu.ph/emeriti/\n",
      "https://www.dlsu.edu.ph/brothers/\n",
      "https://www.dlsu.edu.ph/lasallianmission/\n",
      "https://www.dlsu.edu.ph/offices/\n",
      "https://www.dlsu.edu.ph/inside/board-advisors/\n",
      "https://www.dlsu.edu.ph/admissions/scholarships/\n",
      "https://www.dlsu.edu.ph/admissions/graduate/\n",
      "https://www.dlsu.edu.ph/integrated-school/\n",
      "https://www.dlsu.edu.ph/integrated-school/\n",
      "https://www.dlsu.edu.ph/integrated-school/\n",
      "https://www.dlsu.edu.ph/integratedschool-test/senior-high-school/\n",
      "https://www.dlsu.edu.ph/colleges/\n",
      "https://www.dlsu.edu.ph/colleges/gcoe/overview/\n",
      "http://www.dlsu.edu.ph/wp-content/uploads/pdf/laguna-campus/dlsu-laguna-campus-viewbook.pdf\n",
      "https://www.dlsu.edu.ph/admissions/graduate/graduate-viewbooks/\n",
      "https://www.dlsu.edu.ph/wp-content/uploads/pdf/viewbook/graduate/bag-ced-graduate-viewbook.pdf\n",
      "https://www.dlsu.edu.ph/wp-content/uploads/pdf/viewbook/graduate/ccs-graduate-viewbook.pdf\n",
      "https://www.dlsu.edu.ph/wp-content/uploads/pdf/viewbook/graduate/cla-graduate-viewbook.pdf\n",
      "https://www.dlsu.edu.ph/wp-content/uploads/pdf/viewbook/graduate/cos-graduate-viewbook.pdf\n",
      "https://www.dlsu.edu.ph/wp-content/uploads/pdf/viewbook/graduate/gcoe-graduate-viewbook.pdf\n",
      "https://www.dlsu.edu.ph/wp-content/uploads/pdf/viewbook/graduate/rvr-cob-graduate-viewbook.pdf\n",
      "https://www.dlsu.edu.ph/shs-research-congress/%20\n",
      "https://www.dlsu.edu.ph/soll/\n",
      "http://enroll.dlsu.edu.ph/dlsu/dts\n",
      "https://www.dlsu.edu.ph/offices/registrar/document_request/\n",
      "https://www.dlsu.edu.ph/offices/hub/cav-ched-requests/\n",
      "https://www.dlsu.edu.ph/research/\n",
      "https://www.dlsu.edu.ph/conferences/\n",
      "https://www.dlsu.edu.ph/research/research-centers/\n",
      "https://www.dlsu.edu.ph/research/research-centers/shore/\n",
      "https://www.dlsu.edu.ph/research/research-centers/aki/programs-activities-aki/young-economists-convention-aki/\n",
      "https://www.dlsu.edu.ph/research/research-centers/bnscwc/\n",
      "https://www.dlsu.edu.ph/research/research-centers/southeast-asia-research-center-and-hub/\n",
      "https://www.dlsu.edu.ph/research/research-centers/yuchengco-center/\n",
      "https://www.dlsu.edu.ph/research/research-centers/cesdr/\n",
      "https://www.dlsu.edu.ph/research/research-centers/censer/\n",
      "https://www.dlsu.edu.ph/research/research-centers/ibeht/\n",
      "https://www.dlsu-jrig.org/\n",
      "https://www.dlsu.edu.ph/research/research-centers/sdrc/\n",
      "https://www.dlsu.edu.ph/research/research-centers/tala/\n",
      "https://www.dlsu.edu.ph/research/offices/urco/\n",
      "https://www.dlsu.edu.ph/wp-content/uploads/pdf/viewbook/graduate/bag-ced-graduate-viewbook.pdf\n",
      "https://www.dlsu.edu.ph/wp-content/uploads/pdf/viewbook/graduate/ccs-graduate-viewbook.pdf\n",
      "https://www.dlsu.edu.ph/wp-content/uploads/pdf/viewbook/graduate/cla-graduate-viewbook.pdf\n",
      "https://www.dlsu.edu.ph/wp-content/uploads/pdf/viewbook/graduate/cos-graduate-viewbook.pdf\n",
      "https://www.dlsu.edu.ph/wp-content/uploads/pdf/viewbook/graduate/gcoe-graduate-viewbook.pdf\n",
      "http://themuseum.dlsu.edu.ph\n",
      "https://www.dlsu.edu.ph/\n",
      "https://www.dlsu.edu.ph/\n",
      "https://www.dlsu.edu.ph/about-dlsu/\n",
      "https://www.dlsu.edu.ph/about-dlsu/ourcorevalues/\n",
      "https://www.dlsu.edu.ph/offices/qao/accreditation/\n",
      "https://www.dlsu.edu.ph/offices/office-of-the-chancellor/\n",
      "https://www.dlsu.edu.ph/university-fellows/\n",
      "https://www.dlsu.edu.ph/emeriti/\n",
      "https://www.dlsu.edu.ph/brothers/\n",
      "https://www.dlsu.edu.ph/lasallianmission/\n",
      "https://www.dlsu.edu.ph/offices/\n",
      "https://www.dlsu.edu.ph/inside/board-advisors/\n",
      "https://www.dlsu.edu.ph/admissions/scholarships/\n",
      "https://www.dlsu.edu.ph/admissions/graduate/\n",
      "https://www.dlsu.edu.ph/integrated-school/\n",
      "https://www.dlsu.edu.ph/integrated-school/\n",
      "https://www.dlsu.edu.ph/integrated-school/\n",
      "https://www.dlsu.edu.ph/integratedschool-test/senior-high-school/\n",
      "https://www.dlsu.edu.ph/colleges/\n",
      "https://www.dlsu.edu.ph/colleges/gcoe/overview/\n",
      "http://www.dlsu.edu.ph/wp-content/uploads/pdf/laguna-campus/dlsu-laguna-campus-viewbook.pdf\n",
      "https://www.dlsu.edu.ph/admissions/graduate/graduate-viewbooks/\n",
      "https://www.dlsu.edu.ph/wp-content/uploads/pdf/viewbook/graduate/bag-ced-graduate-viewbook.pdf\n",
      "https://www.dlsu.edu.ph/wp-content/uploads/pdf/viewbook/graduate/ccs-graduate-viewbook.pdf\n",
      "https://www.dlsu.edu.ph/wp-content/uploads/pdf/viewbook/graduate/cla-graduate-viewbook.pdf\n",
      "https://www.dlsu.edu.ph/wp-content/uploads/pdf/viewbook/graduate/cos-graduate-viewbook.pdf\n",
      "https://www.dlsu.edu.ph/wp-content/uploads/pdf/viewbook/graduate/gcoe-graduate-viewbook.pdf\n",
      "https://www.dlsu.edu.ph/wp-content/uploads/pdf/viewbook/graduate/rvr-cob-graduate-viewbook.pdf\n",
      "https://www.dlsu.edu.ph/shs-research-congress/%20\n",
      "https://www.dlsu.edu.ph/soll/\n",
      "http://enroll.dlsu.edu.ph/dlsu/dts\n",
      "https://www.dlsu.edu.ph/offices/registrar/document_request/\n",
      "https://www.dlsu.edu.ph/offices/hub/cav-ched-requests/\n",
      "https://www.dlsu.edu.ph/research/\n",
      "https://www.dlsu.edu.ph/conferences/\n",
      "https://www.dlsu.edu.ph/research/research-centers/\n",
      "https://www.dlsu.edu.ph/research/research-centers/shore/\n",
      "https://www.dlsu.edu.ph/research/research-centers/aki/programs-activities-aki/young-economists-convention-aki/\n",
      "https://www.dlsu.edu.ph/research/research-centers/bnscwc/\n",
      "https://www.dlsu.edu.ph/research/research-centers/southeast-asia-research-center-and-hub/\n",
      "https://www.dlsu.edu.ph/research/research-centers/yuchengco-center/\n",
      "https://www.dlsu.edu.ph/research/research-centers/cesdr/\n",
      "https://www.dlsu.edu.ph/research/research-centers/censer/\n",
      "https://www.dlsu.edu.ph/research/research-centers/ibeht/\n",
      "https://www.dlsu-jrig.org/\n",
      "https://www.dlsu.edu.ph/research/research-centers/sdrc/\n",
      "https://www.dlsu.edu.ph/research/research-centers/tala/\n",
      "https://www.dlsu.edu.ph/research/offices/urco/\n",
      "https://www.dlsu.edu.ph/wp-content/uploads/pdf/viewbook/graduate/bag-ced-graduate-viewbook.pdf\n",
      "https://www.dlsu.edu.ph/wp-content/uploads/pdf/viewbook/graduate/ccs-graduate-viewbook.pdf\n",
      "https://www.dlsu.edu.ph/wp-content/uploads/pdf/viewbook/graduate/cla-graduate-viewbook.pdf\n",
      "https://www.dlsu.edu.ph/wp-content/uploads/pdf/viewbook/graduate/cos-graduate-viewbook.pdf\n",
      "https://www.dlsu.edu.ph/wp-content/uploads/pdf/viewbook/graduate/gcoe-graduate-viewbook.pdf\n",
      "http://themuseum.dlsu.edu.ph\n",
      "https://www.dlsu.edu.ph/i-viewbook/index.php\n",
      "https://www.dlsu.edu.ph/admissions/graduate/graduate-viewbooks/\n",
      "https://admissions.dlsu.edu.ph/application/ug/applicationform/adm_appl_type.aspx\n",
      "https://www.dlsu.edu.ph/wp-content/uploads/pdf/announcements/t1-ay22-23-faqs-students.pdf\n",
      "https://www.dlsu.edu.ph/wp-content/uploads/pdf/announcements/t1-ay22-23-faqs-faculty.pdf\n",
      "https://www.dlsu.edu.ph/wp-content/uploads/2022/06/the-concierge.pdf\n",
      "https://theconcierge.dlsu.edu.ph/\n",
      "http://bit.ly/DLSUCareDesk_\n",
      "https://www.dlsu.edu.ph/research/covid-19-research-portal/?fbclid=IwAR21ZtUOKieminGoq1HJxLUnR-aX67deDOqTcfeU8z7nWU9U-VziP1SmiSY\n",
      "https://dlsu.info/applyfrosh\n",
      "https://dlsu.info/applyfrosh\n",
      "https://www.dlsu.edu.ph/wp-content/uploads/pdf/stratcom/questions-magazine/questions-2022.pdf\n",
      "https://www.dlsu.edu.ph/online-request-for-documents/\n",
      "https://www.dlsu.edu.ph/online-request-for-documents/\n",
      "https://www.dlsu.edu.ph/contact-us-new-normal/\n",
      "https://www.dlsu.edu.ph/contact-us-new-normal/\n",
      "https://www.dlsu.edu.ph/dlsu-care-desk/\n",
      "https://www.dlsu.edu.ph/dlsu-care-desk/\n",
      "https://www.dlsu.edu.ph/covid-19-resource/\n",
      "https://www.dlsu.edu.ph/covid-19-resource/\n",
      "https://www.dlsu.edu.ph/connectivity-support/\n",
      "https://www.dlsu.edu.ph/connectivity-support/\n",
      "https://www.dlsu.edu.ph/dlsu-return-to-campus-guidelines/\n",
      "https://www.dlsu.edu.ph/dlsu-return-to-campus-guidelines/\n",
      "https://www.dlsu.edu.ph/lasallians-r-e-a-c-h/\n",
      "https://www.dlsu.edu.ph/lasallians-r-e-a-c-h/\n",
      "https://www.dlsu.edu.ph/list-of-important-help-desk-announcements/\n",
      "https://www.dlsu.edu.ph/list-of-important-help-desk-announcements/\n",
      "https://www.dlsu.edu.ph/give/\n",
      "https://www.dlsu.edu.ph/online-request-for-documents/\n",
      "https://www.dlsu.edu.ph/online-request-for-documents/\n",
      "https://www.dlsu.edu.ph/ban-of-single-use-plastics-sups-on-campus/\n",
      "https://www.dlsu.edu.ph/ban-of-single-use-plastics-sups-on-campus/\n",
      "https://www.dlsu.edu.ph/joint-statement-on-the-news-report-of-the-national-task-force-to-end-local-communist-armed-conflict/\n",
      "https://www.dlsu.edu.ph/joint-statement-on-the-news-report-of-the-national-task-force-to-end-local-communist-armed-conflict/\n",
      "https://www.dlsu.edu.ph/dlsu-researchers-shine-in-2020-nast-awards/\n",
      "https://www.dlsu.edu.ph/dlsu-researchers-shine-in-2020-nast-awards/\n",
      "https://www.dlsu.edu.ph/the-asia-university-rankings/\n",
      "https://www.dlsu.edu.ph/the-asia-university-rankings/\n",
      "https://www.dlsu.edu.ph/dlsu-crosses-4000-scopus-mark-leads-phls-research-productivity-in-2019/\n",
      "https://www.dlsu.edu.ph/dlsu-crosses-4000-scopus-mark-leads-phls-research-productivity-in-2019/\n",
      "https://www.dlsu.edu.ph/financial-psychological-connectivity-support-during-covid-19/\n",
      "https://www.dlsu.edu.ph/financial-psychological-connectivity-support-during-covid-19/\n",
      "https://www.dlsu.edu.ph/one-in-mission-lasallians-mount-covid-19-relief-efforts-for-dlsu-community/\n",
      "https://www.dlsu.edu.ph/one-in-mission-lasallians-mount-covid-19-relief-efforts-for-dlsu-community/\n",
      "https://www.dlsu.edu.ph/la-salles-future-lawyers-lead-volunteer-efforts/\n",
      "https://www.dlsu.edu.ph/la-salles-future-lawyers-lead-volunteer-efforts/\n",
      "https://www.dlsu.edu.ph/hei-shift-learning-delivery-support-in-line-with-ched-ecq-guidelines/\n",
      "https://www.dlsu.edu.ph/hei-shift-learning-delivery-support-in-line-with-ched-ecq-guidelines/\n",
      "https://www.facebook.com/DLSU.Manila.100\n",
      "https://twitter.com/dlsumanila\n",
      "https://www.linkedin.com/school/de-la-salle-university/\n",
      "https://www.youtube.com/channel/UC7LXC9usdkDC0YEvWxa_kHQ\n",
      "https://twitter.com/DLSUGradStudies\n",
      "https://www.facebook.com/DLSU.GradStudies\n",
      "https://my.dlsu.edu.ph\n",
      "https://animo.sys.dlsu.edu.ph\n",
      "https://www.dlsu.edu.ph/safe-space-act-ra11313/\n",
      "https://www.dlsu.edu.ph/offices/registrar/cost-of-studies/request-for-documents/\n",
      "https://animo.sys.dlsu.edu.ph\n",
      "https://my.dlsu.edu.ph\n",
      "https://animospace.dlsu.edu.ph\n",
      "http://gateway.dlsu.edu.ph\n",
      "https://www.dlsu.edu.ph/bituin/hr/\n",
      "https://theconcierge.dlsu.edu.ph/\n",
      "https://www.dlsu.edu.ph/give/\n",
      "https://www.dlsu.edu.ph/offices/registrar/document_request/\n",
      "https://www.dlsu.edu.ph/privacy/\n",
      "https://www.dlsu.edu.ph/about-dlsu/\n",
      "Elapsed Time: 1.5034606456756592\n"
     ]
    }
   ],
   "source": [
    "import requests\n",
    "import html5lib\n",
    "from bs4 import BeautifulSoup\n",
    "import re\n",
    "import time\n",
    "\n",
    "soup = BeautifulSoup(page.content, 'lxml')\n",
    "data = []\n",
    "links = []\n",
    "\n",
    "url_limit = 50\n",
    "\n",
    "start = time.time()\n",
    "\n",
    "def remove_duplicates(l): # remove duplicates and unURL string\n",
    "    for item in l:\n",
    "        match = re.search(\"(?P<url>https?://[^\\s]+)\", item)\n",
    "        if match is not None:\n",
    "            links.append((match.group(\"url\")))\n",
    "\n",
    "\n",
    "for link in soup.find_all('a', href=True):\n",
    "    data.append(str(link.get('href')))\n",
    "    \n",
    "flag = True\n",
    "remove_duplicates(data)\n",
    "\n",
    "while flag:\n",
    "    try:\n",
    "        for link in links:\n",
    "            for j in soup.find_all('a', href=True):\n",
    "                temp = []\n",
    "                source_code = requests.get(link)\n",
    "                soup = BeautifulSoup(source_code.content, 'lxml')\n",
    "                temp.append(str(j.get('href')))\n",
    "                remove_duplicates(temp)\n",
    "\n",
    "                if len(links) > url_limit: # set limitation to number of URLs\n",
    "                    break\n",
    "            if len(links) > url_limit:\n",
    "                break\n",
    "        if len(links) > url_limit:\n",
    "            break\n",
    "    except Exception as e:\n",
    "        print(e)\n",
    "        if len(links) > url_limit:\n",
    "            break\n",
    "            \n",
    "for url in links:\n",
    "    print(url)\n",
    "    \n",
    "print (\"Elapsed Time: %s\" % (time.time() - start))"
   ]
  },
  {
   "cell_type": "code",
   "execution_count": 5,
   "metadata": {
    "scrolled": false
   },
   "outputs": [
    {
     "name": "stdout",
     "output_type": "stream",
     "text": [
      "https://www.dlsu.edu.ph/admissions/scholarships/\n"
     ]
    }
   ],
   "source": [
    "web_index = 10 # for testing purposes\n",
    "print(links[web_index])"
   ]
  },
  {
   "cell_type": "markdown",
   "metadata": {},
   "source": [
    "# Get Email"
   ]
  },
  {
   "cell_type": "code",
   "execution_count": 6,
   "metadata": {},
   "outputs": [],
   "source": [
    "def deCFEmail(fp):\n",
    "    try:\n",
    "        r = int(fp[:2],16)\n",
    "        email = ''.join([chr(int(fp[i:i+2], 16) ^ r) for i in range(2, len(fp), 2)])\n",
    "        return email\n",
    "    except (ValueError):\n",
    "        pass"
   ]
  },
  {
   "cell_type": "code",
   "execution_count": 7,
   "metadata": {},
   "outputs": [],
   "source": [
    "emailList = []\n",
    "r = 0\n",
    "\n",
    "def emailExtractor(urlString):\n",
    "    getH=requests.get(urlString)\n",
    "    h=getH.content\n",
    "    soup=BeautifulSoup(h,'html.parser')\n",
    "    mailtos = soup.select('a[href]')\n",
    "    for i in mailtos:\n",
    "        href=i['href']\n",
    "        if \"email-protect\" in href:\n",
    "            emailList.append(deCFEmail(href.split(\"#\")[1]))"
   ]
  },
  {
   "cell_type": "code",
   "execution_count": 8,
   "metadata": {
    "scrolled": false
   },
   "outputs": [
    {
     "data": {
      "text/plain": [
       "{'arlyn.ong@dlsu.edu.ph',\n",
       " 'briane.samson@dlsu.edu.ph',\n",
       " 'charibeth.cheng@dlsu.edu.ph',\n",
       " 'christine.diane.ramos@dlsu.edu.ph',\n",
       " 'clement.ong@dlsu.edu.ph',\n",
       " 'edward.tighe@dlsu.edu.ph',\n",
       " 'ethel.ong@dlsu.edu.ph',\n",
       " 'gregory.cu@dlsu.edu.ph',\n",
       " 'lissa.magpantay@dlsu.edu.ph',\n",
       " 'ma.christine.gendrano@dlsu.edu.ph',\n",
       " 'ma.rowena.caguiat@dlsu.edu.ph',\n",
       " 'marnel.peradilla@dlsu.edu.ph',\n",
       " 'michelle.ching@dlsu.edu.ph',\n",
       " 'neil.delgallego@dlsu.edu.ph',\n",
       " 'oliver.malabanan@dlsu.edu.ph',\n",
       " 'rafael.cabredo@dlsu.edu.ph',\n",
       " 'ronald.pascual@dlsu.edu.ph',\n",
       " 'ryan.dimaunahan@dlsu.edu.ph',\n",
       " 'shirley.chu@dlsu.edu.ph'}"
      ]
     },
     "execution_count": 8,
     "metadata": {},
     "output_type": "execute_result"
    }
   ],
   "source": [
    "emailExtractor('https://www.dlsu.edu.ph/colleges/ccs/office-of-the-dean/')\n",
    "emailList\n",
    "\n",
    "finalList = set(emailList)\n",
    "finalList"
   ]
  },
  {
   "cell_type": "markdown",
   "metadata": {},
   "source": [
    "# Get Names"
   ]
  },
  {
   "cell_type": "code",
   "execution_count": null,
   "metadata": {},
   "outputs": [],
   "source": []
  },
  {
   "cell_type": "markdown",
   "metadata": {},
   "source": [
    "# Threading "
   ]
  },
  {
   "cell_type": "markdown",
   "metadata": {},
   "source": [
    "## wala pang ginagawa to"
   ]
  },
  {
   "cell_type": "code",
   "execution_count": 12,
   "metadata": {},
   "outputs": [
    {
     "name": "stdout",
     "output_type": "stream",
     "text": [
      "'https://www.dlsu.edu.ph/about-dlsu/' fetched in 0.0020012855529785156s\n",
      "'https://www.dlsu.edu.ph/about-dlsu/ourcorevalues/' fetched in 0.0031528472900390625s\n",
      "'https://www.dlsu.edu.ph/offices/qao/accreditation/' fetched in 0.00414729118347168s\n",
      "'https://www.dlsu.edu.ph/offices/office-of-the-chancellor/' fetched in 0.005147457122802734s\n",
      "'https://www.dlsu.edu.ph/university-fellows/' fetched in 0.006144523620605469s\n",
      "'https://www.dlsu.edu.ph/emeriti/' fetched in 0.007144451141357422s\n",
      "'https://www.dlsu.edu.ph/brothers/' fetched in 0.007144451141357422s\n",
      "'https://www.dlsu.edu.ph/lasallianmission/' fetched in 0.008144378662109375s\n",
      "'https://www.dlsu.edu.ph/offices/' fetched in 0.009144783020019531s\n",
      "'https://www.dlsu.edu.ph/inside/board-advisors/' fetched in 0.010145187377929688s\n",
      "'https://www.dlsu.edu.ph/admissions/scholarships/' fetched in 0.010145187377929688s\n",
      "'https://www.dlsu.edu.ph/admissions/graduate/' fetched in 0.011144399642944336s\n",
      "'https://www.dlsu.edu.ph/integrated-school/' fetched in 0.01214456558227539s\n",
      "'https://www.dlsu.edu.ph/integrated-school/' fetched in 0.013144731521606445s\n",
      "'https://www.dlsu.edu.ph/integrated-school/' fetched in 0.014144182205200195s\n",
      "'https://www.dlsu.edu.ph/integratedschool-test/senior-high-school/' fetched in 0.015144586563110352s\n",
      "'https://www.dlsu.edu.ph/colleges/' fetched in 0.016144752502441406s\n",
      "'https://www.dlsu.edu.ph/colleges/gcoe/overview/' fetched in 0.01714468002319336s\n",
      "'http://www.dlsu.edu.ph/wp-content/uploads/pdf/laguna-campus/dlsu-laguna-campus-viewbook.pdf' fetched in 0.01814413070678711s\n",
      "'https://www.dlsu.edu.ph/admissions/graduate/graduate-viewbooks/' fetched in 0.01814413070678711s\n",
      "'https://www.dlsu.edu.ph/wp-content/uploads/pdf/viewbook/graduate/bag-ced-graduate-viewbook.pdf' fetched in 0.019144773483276367s\n",
      "'https://www.dlsu.edu.ph/wp-content/uploads/pdf/viewbook/graduate/ccs-graduate-viewbook.pdf' fetched in 0.020145177841186523s\n",
      "'https://www.dlsu.edu.ph/wp-content/uploads/pdf/viewbook/graduate/cla-graduate-viewbook.pdf' fetched in 0.021148681640625s\n",
      "'https://www.dlsu.edu.ph/wp-content/uploads/pdf/viewbook/graduate/cos-graduate-viewbook.pdf' fetched in 0.02214503288269043s\n",
      "'https://www.dlsu.edu.ph/wp-content/uploads/pdf/viewbook/graduate/gcoe-graduate-viewbook.pdf' fetched in 0.023146867752075195s\n",
      "'https://www.dlsu.edu.ph/wp-content/uploads/pdf/viewbook/graduate/rvr-cob-graduate-viewbook.pdf' fetched in 0.024146318435668945s\n",
      "'https://www.dlsu.edu.ph/shs-research-congress/%20' fetched in 0.024146318435668945s\n",
      "'https://www.dlsu.edu.ph/soll/' fetched in 0.02514481544494629s\n",
      "'http://enroll.dlsu.edu.ph/dlsu/dts' fetched in 0.026144742965698242s\n",
      "'https://www.dlsu.edu.ph/offices/registrar/document_request/' fetched in 0.027144670486450195s\n",
      "'https://www.dlsu.edu.ph/offices/hub/cav-ched-requests/' fetched in 0.028144359588623047s\n",
      "'https://www.dlsu.edu.ph/research/' fetched in 0.0291440486907959s\n",
      "'https://www.dlsu.edu.ph/conferences/' fetched in 0.030147552490234375s\n",
      "'https://www.dlsu.edu.ph/research/research-centers/' fetched in 0.030147552490234375s\n",
      "'https://www.dlsu.edu.ph/research/research-centers/shore/' fetched in 0.03114604949951172s\n",
      "'https://www.dlsu.edu.ph/research/research-centers/aki/programs-activities-aki/young-economists-convention-aki/' fetched in 0.032145023345947266s\n",
      "'https://www.dlsu.edu.ph/research/research-centers/bnscwc/' fetched in 0.033144474029541016s\n",
      "'https://www.dlsu.edu.ph/research/research-centers/southeast-asia-research-center-and-hub/' fetched in 0.034148216247558594s\n",
      "'https://www.dlsu.edu.ph/research/research-centers/yuchengco-center/' fetched in 0.035146474838256836s\n",
      "'https://www.dlsu.edu.ph/research/research-centers/cesdr/' fetched in 0.035146474838256836s\n",
      "'https://www.dlsu.edu.ph/research/research-centers/censer/' fetched in 0.036144256591796875s\n",
      "'https://www.dlsu.edu.ph/research/research-centers/ibeht/' fetched in 0.03714561462402344s\n",
      "'https://www.dlsu-jrig.org/' fetched in 0.038144826889038086s\n",
      "'https://www.dlsu.edu.ph/research/research-centers/sdrc/' fetched in 0.03914451599121094s\n",
      "'https://www.dlsu.edu.ph/research/research-centers/tala/' fetched in 0.0401456356048584s\n",
      "'https://www.dlsu.edu.ph/research/offices/urco/' fetched in 0.04114556312561035s\n",
      "'https://www.dlsu.edu.ph/wp-content/uploads/pdf/viewbook/graduate/bag-ced-graduate-viewbook.pdf' fetched in 0.04114556312561035s'https://www.dlsu.edu.ph/wp-content/uploads/pdf/viewbook/graduate/ccs-graduate-viewbook.pdf' fetched in 0.0421445369720459s\n",
      "\n",
      "'https://www.dlsu.edu.ph/wp-content/uploads/pdf/viewbook/graduate/cla-graduate-viewbook.pdf' fetched in 0.043144941329956055s\n",
      "'https://www.dlsu.edu.ph/wp-content/uploads/pdf/viewbook/graduate/cos-graduate-viewbook.pdf' fetched in 0.04414486885070801s\n",
      "'https://www.dlsu.edu.ph/wp-content/uploads/pdf/viewbook/graduate/gcoe-graduate-viewbook.pdf' fetched in 0.04514503479003906s\n",
      "'http://themuseum.dlsu.edu.ph' fetched in 0.04614400863647461s\n",
      "'https://www.dlsu.edu.ph/' fetched in 0.047144174575805664s\n",
      "'https://www.dlsu.edu.ph/' fetched in 0.048143863677978516s\n",
      "'https://www.dlsu.edu.ph/about-dlsu/' fetched in 0.04914712905883789s\n",
      "'https://www.dlsu.edu.ph/about-dlsu/ourcorevalues/' fetched in 0.04914712905883789s\n",
      "'https://www.dlsu.edu.ph/offices/qao/accreditation/' fetched in 0.05014491081237793s\n",
      "'https://www.dlsu.edu.ph/offices/office-of-the-chancellor/' fetched in 0.051143646240234375s\n",
      "'https://www.dlsu.edu.ph/university-fellows/' fetched in 0.05214834213256836s\n",
      "'https://www.dlsu.edu.ph/emeriti/' fetched in 0.053143978118896484s\n",
      "'https://www.dlsu.edu.ph/brothers/' fetched in 0.053143978118896484s\n",
      "'https://www.dlsu.edu.ph/lasallianmission/' fetched in 0.05414438247680664s\n",
      "'https://www.dlsu.edu.ph/offices/' fetched in 0.055144309997558594s\n",
      "'https://www.dlsu.edu.ph/inside/board-advisors/' fetched in 0.05614423751831055s\n",
      "'https://www.dlsu.edu.ph/admissions/scholarships/' fetched in 0.057145118713378906s\n",
      "'https://www.dlsu.edu.ph/admissions/graduate/' fetched in 0.057145118713378906s\n",
      "'https://www.dlsu.edu.ph/integrated-school/' fetched in 0.05814409255981445s\n",
      "'https://www.dlsu.edu.ph/integrated-school/' fetched in 0.059145212173461914s\n",
      "'https://www.dlsu.edu.ph/integrated-school/' fetched in 0.060144901275634766s\n",
      "'https://www.dlsu.edu.ph/integratedschool-test/senior-high-school/' fetched in 0.06114673614501953s\n",
      "'https://www.dlsu.edu.ph/colleges/' fetched in 0.06214547157287598s\n",
      "'https://www.dlsu.edu.ph/colleges/gcoe/overview/' fetched in 0.06314682960510254s\n",
      "'http://www.dlsu.edu.ph/wp-content/uploads/pdf/laguna-campus/dlsu-laguna-campus-viewbook.pdf' fetched in 0.06414604187011719s\n",
      "'https://www.dlsu.edu.ph/admissions/graduate/graduate-viewbooks/' fetched in 0.06514477729797363s\n",
      "'https://www.dlsu.edu.ph/wp-content/uploads/pdf/viewbook/graduate/bag-ced-graduate-viewbook.pdf' fetched in 0.0661478042602539s\n",
      "'https://www.dlsu.edu.ph/wp-content/uploads/pdf/viewbook/graduate/ccs-graduate-viewbook.pdf' fetched in 0.06714630126953125s\n",
      "'https://www.dlsu.edu.ph/wp-content/uploads/pdf/viewbook/graduate/cla-graduate-viewbook.pdf' fetched in 0.06814694404602051s\n",
      "'https://www.dlsu.edu.ph/wp-content/uploads/pdf/viewbook/graduate/cos-graduate-viewbook.pdf' fetched in 0.06814694404602051s\n",
      "'https://www.dlsu.edu.ph/wp-content/uploads/pdf/viewbook/graduate/gcoe-graduate-viewbook.pdf' fetched in 0.0701456069946289s\n",
      "'https://www.dlsu.edu.ph/wp-content/uploads/pdf/viewbook/graduate/rvr-cob-graduate-viewbook.pdf' fetched in 0.0701456069946289s\n",
      "'https://www.dlsu.edu.ph/shs-research-congress/%20' fetched in 0.07114505767822266s\n",
      "'https://www.dlsu.edu.ph/soll/' fetched in 0.0721445083618164s\n",
      "'http://enroll.dlsu.edu.ph/dlsu/dts' fetched in 0.07314801216125488s\n",
      "'https://www.dlsu.edu.ph/offices/registrar/document_request/' fetched in 0.07414412498474121s\n",
      "'https://www.dlsu.edu.ph/offices/hub/cav-ched-requests/' fetched in 0.07514405250549316s\n",
      "'https://www.dlsu.edu.ph/research/' fetched in 0.07614564895629883s\n",
      "'https://www.dlsu.edu.ph/conferences/' fetched in 0.07614564895629883s\n",
      "'https://www.dlsu.edu.ph/research/research-centers/' fetched in 0.07714486122131348s\n",
      "'https://www.dlsu.edu.ph/research/research-centers/shore/' fetched in 0.07814359664916992s\n",
      "'https://www.dlsu.edu.ph/research/research-centers/aki/programs-activities-aki/young-economists-convention-aki/' fetched in 0.07914447784423828s\n",
      "'https://www.dlsu.edu.ph/research/research-centers/bnscwc/' fetched in 0.08014369010925293s\n",
      "'https://www.dlsu.edu.ph/research/research-centers/southeast-asia-research-center-and-hub/' fetched in 0.08114361763000488s\n",
      "'https://www.dlsu.edu.ph/research/research-centers/yuchengco-center/' fetched in 0.08114361763000488s\n",
      "'https://www.dlsu.edu.ph/research/research-centers/cesdr/' fetched in 0.08214426040649414s\n",
      "'https://www.dlsu.edu.ph/research/research-centers/censer/' fetched in 0.08314847946166992s\n",
      "'https://www.dlsu.edu.ph/research/research-centers/ibeht/' fetched in 0.08414697647094727s\n",
      "'https://www.dlsu-jrig.org/' fetched in 0.08514404296875s\n",
      "'https://www.dlsu.edu.ph/research/research-centers/sdrc/' fetched in 0.08614468574523926s\n",
      "'https://www.dlsu.edu.ph/research/research-centers/tala/' fetched in 0.08614468574523926s\n",
      "'https://www.dlsu.edu.ph/research/offices/urco/' fetched in 0.08714509010314941s\n",
      "'https://www.dlsu.edu.ph/wp-content/uploads/pdf/viewbook/graduate/bag-ced-graduate-viewbook.pdf' fetched in 0.08814477920532227s\n",
      "'https://www.dlsu.edu.ph/wp-content/uploads/pdf/viewbook/graduate/ccs-graduate-viewbook.pdf' fetched in 0.08914422988891602s\n",
      "'https://www.dlsu.edu.ph/wp-content/uploads/pdf/viewbook/graduate/cla-graduate-viewbook.pdf' fetched in 0.09014391899108887s\n",
      "'https://www.dlsu.edu.ph/wp-content/uploads/pdf/viewbook/graduate/cos-graduate-viewbook.pdf' fetched in 0.09114480018615723s\n",
      "'https://www.dlsu.edu.ph/wp-content/uploads/pdf/viewbook/graduate/gcoe-graduate-viewbook.pdf' fetched in 0.09114480018615723s\n",
      "'http://themuseum.dlsu.edu.ph' fetched in 0.09214425086975098s\n",
      "'https://www.dlsu.edu.ph/i-viewbook/index.php' fetched in 0.09314799308776855s\n",
      "'https://www.dlsu.edu.ph/admissions/graduate/graduate-viewbooks/' fetched in 0.0941462516784668s\n",
      "'https://admissions.dlsu.edu.ph/application/ug/applicationform/adm_appl_type.aspx' fetched in 0.09514427185058594s\n",
      "'https://www.dlsu.edu.ph/wp-content/uploads/pdf/announcements/t1-ay22-23-faqs-students.pdf' fetched in 0.09514427185058594s\n",
      "'https://www.dlsu.edu.ph/wp-content/uploads/pdf/announcements/t1-ay22-23-faqs-faculty.pdf' fetched in 0.09614396095275879s\n",
      "'https://www.dlsu.edu.ph/wp-content/uploads/2022/06/the-concierge.pdf' fetched in 0.09714460372924805s\n",
      "'https://theconcierge.dlsu.edu.ph/' fetched in 0.0981450080871582s\n",
      "'http://bit.ly/DLSUCareDesk_' fetched in 0.09914469718933105s\n",
      "'https://www.dlsu.edu.ph/research/covid-19-research-portal/?fbclid=IwAR21ZtUOKieminGoq1HJxLUnR-aX67deDOqTcfeU8z7nWU9U-VziP1SmiSY' fetched in 0.1001436710357666s\n",
      "'https://dlsu.info/applyfrosh' fetched in 0.1001436710357666s\n",
      "'https://dlsu.info/applyfrosh' fetched in 0.10114502906799316s\n",
      "'https://www.dlsu.edu.ph/wp-content/uploads/pdf/stratcom/questions-magazine/questions-2022.pdf' fetched in 0.1021432876586914s\n",
      "'https://www.dlsu.edu.ph/online-request-for-documents/' fetched in 0.10314655303955078s\n",
      "'https://www.dlsu.edu.ph/online-request-for-documents/' fetched in 0.10314655303955078s\n",
      "'https://www.dlsu.edu.ph/contact-us-new-normal/' fetched in 0.10414481163024902s\n",
      "'https://www.dlsu.edu.ph/contact-us-new-normal/' fetched in 0.10514402389526367s\n",
      "'https://www.dlsu.edu.ph/dlsu-care-desk/' fetched in 0.10614514350891113s\n",
      "'https://www.dlsu.edu.ph/dlsu-care-desk/' fetched in 0.10714411735534668s\n",
      "'https://www.dlsu.edu.ph/covid-19-resource/' fetched in 0.10814452171325684s\n",
      "'https://www.dlsu.edu.ph/covid-19-resource/' fetched in 0.10814452171325684s\n",
      "'https://www.dlsu.edu.ph/connectivity-support/' fetched in 0.10914373397827148s\n",
      "'https://www.dlsu.edu.ph/connectivity-support/' fetched in 0.11014461517333984s\n",
      "'https://www.dlsu.edu.ph/dlsu-return-to-campus-guidelines/' fetched in 0.1111440658569336s\n",
      "'https://www.dlsu.edu.ph/dlsu-return-to-campus-guidelines/' fetched in 0.11214375495910645s\n",
      "'https://www.dlsu.edu.ph/lasallians-r-e-a-c-h/' fetched in 0.11314558982849121s\n",
      "'https://www.dlsu.edu.ph/lasallians-r-e-a-c-h/' fetched in 0.11314558982849121s\n",
      "'https://www.dlsu.edu.ph/list-of-important-help-desk-announcements/' fetched in 0.11414504051208496s\n",
      "'https://www.dlsu.edu.ph/list-of-important-help-desk-announcements/' fetched in 0.1151437759399414s\n",
      "'https://www.dlsu.edu.ph/give/' fetched in 0.11614370346069336s\n",
      "'https://www.dlsu.edu.ph/online-request-for-documents/' fetched in 0.11714434623718262s\n",
      "'https://www.dlsu.edu.ph/online-request-for-documents/' fetched in 0.11814451217651367s\n",
      "'https://www.dlsu.edu.ph/ban-of-single-use-plastics-sups-on-campus/' fetched in 0.11814451217651367s\n",
      "'https://www.dlsu.edu.ph/ban-of-single-use-plastics-sups-on-campus/' fetched in 0.11914443969726562s\n",
      "'https://www.dlsu.edu.ph/joint-statement-on-the-news-report-of-the-national-task-force-to-end-local-communist-armed-conflict/' fetched in 0.12014484405517578s\n",
      "'https://www.dlsu.edu.ph/joint-statement-on-the-news-report-of-the-national-task-force-to-end-local-communist-armed-conflict/' fetched in 0.12114405632019043s\n",
      "'https://www.dlsu.edu.ph/dlsu-researchers-shine-in-2020-nast-awards/' fetched in 0.12214446067810059s\n",
      "'https://www.dlsu.edu.ph/dlsu-researchers-shine-in-2020-nast-awards/' fetched in 0.12314367294311523s\n",
      "'https://www.dlsu.edu.ph/the-asia-university-rankings/' fetched in 0.12314367294311523s\n",
      "'https://www.dlsu.edu.ph/the-asia-university-rankings/' fetched in 0.1241447925567627s\n",
      "'https://www.dlsu.edu.ph/dlsu-crosses-4000-scopus-mark-leads-phls-research-productivity-in-2019/' fetched in 0.12514638900756836s\n",
      "'https://www.dlsu.edu.ph/dlsu-crosses-4000-scopus-mark-leads-phls-research-productivity-in-2019/' fetched in 0.1261463165283203s\n",
      "'https://www.dlsu.edu.ph/financial-psychological-connectivity-support-during-covid-19/' fetched in 0.12714505195617676s\n",
      "'https://www.dlsu.edu.ph/financial-psychological-connectivity-support-during-covid-19/' fetched in 0.12714505195617676s\n",
      "'https://www.dlsu.edu.ph/one-in-mission-lasallians-mount-covid-19-relief-efforts-for-dlsu-community/' fetched in 0.1281442642211914s\n",
      "'https://www.dlsu.edu.ph/one-in-mission-lasallians-mount-covid-19-relief-efforts-for-dlsu-community/' fetched in 0.12914657592773438s\n",
      "'https://www.dlsu.edu.ph/la-salles-future-lawyers-lead-volunteer-efforts/' fetched in 0.13014554977416992s\n",
      "'https://www.dlsu.edu.ph/la-salles-future-lawyers-lead-volunteer-efforts/' fetched in 0.13114547729492188s\n",
      "'https://www.dlsu.edu.ph/hei-shift-learning-delivery-support-in-line-with-ched-ecq-guidelines/' fetched in 0.13114547729492188s\n",
      "'https://www.dlsu.edu.ph/hei-shift-learning-delivery-support-in-line-with-ched-ecq-guidelines/' fetched in 0.13214850425720215s\n",
      "'https://www.facebook.com/DLSU.Manila.100' fetched in 0.13314437866210938s\n",
      "'https://twitter.com/dlsumanila' fetched in 0.13414669036865234s\n",
      "'https://www.linkedin.com/school/de-la-salle-university/' fetched in 0.135145902633667s\n",
      "'https://www.youtube.com/channel/UC7LXC9usdkDC0YEvWxa_kHQ' fetched in 0.135145902633667s\n",
      "'https://twitter.com/DLSUGradStudies' fetched in 0.13614439964294434s\n",
      "'https://www.facebook.com/DLSU.GradStudies' fetched in 0.1371445655822754s\n",
      "'https://my.dlsu.edu.ph' fetched in 0.13814425468444824s\n",
      "'https://animo.sys.dlsu.edu.ph' fetched in 0.1391448974609375s\n",
      "'https://www.dlsu.edu.ph/safe-space-act-ra11313/' fetched in 0.14014959335327148s\n",
      "'https://www.dlsu.edu.ph/offices/registrar/cost-of-studies/request-for-documents/' fetched in 0.14014959335327148s\n",
      "'https://animo.sys.dlsu.edu.ph' fetched in 0.14114689826965332s\n",
      "'https://my.dlsu.edu.ph' fetched in 0.14214873313903809s\n"
     ]
    },
    {
     "name": "stdout",
     "output_type": "stream",
     "text": [
      "'https://animospace.dlsu.edu.ph' fetched in 0.14314484596252441s\n",
      "'http://gateway.dlsu.edu.ph' fetched in 0.1441483497619629s\n",
      "'https://www.dlsu.edu.ph/bituin/hr/' fetched in 0.14514446258544922s\n",
      "'https://theconcierge.dlsu.edu.ph/' fetched in 0.1461472511291504s\n",
      "'https://www.dlsu.edu.ph/give/' fetched in 0.14714503288269043s\n",
      "'https://www.dlsu.edu.ph/offices/registrar/document_request/' fetched in 0.1481478214263916s\n",
      "'https://www.dlsu.edu.ph/privacy/' fetched in 0.1521458625793457s\n",
      "'https://www.dlsu.edu.ph/about-dlsu/' fetched in 0.1541454792022705s\n",
      "Elapsed Time: 0.15514636039733887\n"
     ]
    }
   ],
   "source": [
    "import threading\n",
    "import time\n",
    "\n",
    "start = time.time()\n",
    "\n",
    "def fetch_url(url):\n",
    "    print (\"'%s\\' fetched in %ss\" % (url, (time.time() - start)))\n",
    "    \n",
    "threads = [threading.Thread(target=fetch_url, args=(url,)) for url in links]\n",
    "\n",
    "for thread in threads:\n",
    "    thread.start()\n",
    "    \n",
    "for thread in threads:\n",
    "    thread.join()\n",
    "\n",
    "print (\"Elapsed Time: %s\" % (time.time() - start))"
   ]
  },
  {
   "cell_type": "markdown",
   "metadata": {},
   "source": [
    "# Get emails protected by cloudflare"
   ]
  },
  {
   "cell_type": "markdown",
   "metadata": {},
   "source": [
    "# Pwede na ata di isama to kasi ayaw gumana"
   ]
  },
  {
   "cell_type": "code",
   "execution_count": 10,
   "metadata": {
    "scrolled": true
   },
   "outputs": [
    {
     "name": "stdout",
     "output_type": "stream",
     "text": [
      "Quality@DLSU\n",
      "Jobs@DLSU\n",
      "Quality@DLSU\n",
      "Jobs@DLSU\n"
     ]
    }
   ],
   "source": [
    "mydivs = soup.findAll(\"span\",{\"class\": \"__cf_email__\"})\n",
    "\n",
    "length = len(mydivs)\n",
    "\n",
    "for x in range(length):\n",
    "    a = cfDecodeEmail(mydivs[x][\"data-cfemail\"])\n",
    "    print(a)\n"
   ]
  },
  {
   "cell_type": "code",
   "execution_count": 11,
   "metadata": {
    "scrolled": true
   },
   "outputs": [
    {
     "name": "stdout",
     "output_type": "stream",
     "text": [
      "4d07222f3e0d09011e18\n",
      "4\n"
     ]
    }
   ],
   "source": [
    "print (mydivs[1][\"data-cfemail\"])\n",
    "print(len(mydivs))"
   ]
  }
 ],
 "metadata": {
  "kernelspec": {
   "display_name": "Python 3",
   "language": "python",
   "name": "python3"
  },
  "language_info": {
   "codemirror_mode": {
    "name": "ipython",
    "version": 3
   },
   "file_extension": ".py",
   "mimetype": "text/x-python",
   "name": "python",
   "nbconvert_exporter": "python",
   "pygments_lexer": "ipython3",
   "version": "3.8.8"
  },
  "vscode": {
   "interpreter": {
    "hash": "20a9e06a1eee47c4abbed4ec8225ad91d78d9800d202b71b6b0a6e47016c6abd"
   }
  }
 },
 "nbformat": 4,
 "nbformat_minor": 2
}
